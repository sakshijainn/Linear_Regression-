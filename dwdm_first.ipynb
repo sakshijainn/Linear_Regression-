{
 "cells": [
  {
   "cell_type": "code",
   "execution_count": 1,
   "metadata": {},
   "outputs": [],
   "source": [
    "import tkinter"
   ]
  },
  {
   "cell_type": "code",
   "execution_count": 2,
   "metadata": {},
   "outputs": [],
   "source": [
    "import numpy as np\n",
    "import pandas as pd\n",
    "import matplotlib.pyplot as plt\n",
    "import seaborn as sns"
   ]
  },
  {
   "cell_type": "code",
   "execution_count": 3,
   "metadata": {},
   "outputs": [
    {
     "name": "stdout",
     "output_type": "stream",
     "text": [
      "   ORDERNUMBER  QUANTITYORDERED  PRICEEACH  ORDERLINENUMBER    SALES  \\\n",
      "0        10107               30      95.70                2  2871.00   \n",
      "1        10121               34      81.35                5  2765.90   \n",
      "2        10134               41      94.74                2  3884.34   \n",
      "3        10145               45      83.26                6  3746.70   \n",
      "4        10159               49     100.00               14  5205.27   \n",
      "\n",
      "          ORDERDATE   STATUS  QTR_ID  MONTH_ID  YEAR_ID  ...  \\\n",
      "0    2/24/2003 0:00  Shipped       1         2     2003  ...   \n",
      "1  05/07/2003 00:00  Shipped       2         5     2003  ...   \n",
      "2  07/01/2003 00:00  Shipped       3         7     2003  ...   \n",
      "3    8/25/2003 0:00  Shipped       3         8     2003  ...   \n",
      "4  10/10/2003 00:00  Shipped       4        10     2003  ...   \n",
      "\n",
      "              PHONE                   ADDRESSLINE1 ADDRESSLINE2  \\\n",
      "0        2125557818        897 Long Airport Avenue          NaN   \n",
      "1        26.47.1555             59 rue de l'Abbaye          NaN   \n",
      "2  +33 1 46 62 7555  27 rue du Colonel Pierre Avia          NaN   \n",
      "3        6265557265             78934 Hillside Dr.          NaN   \n",
      "4        6505551386                7734 Strong St.          NaN   \n",
      "\n",
      "            CITY STATE POSTALCODE        COUNTRY TERRITORY CONTACTLASTNAME  \\\n",
      "0            NYC    NY      10022  United States       NaN              Yu   \n",
      "1          Reims   NaN      51100         France      EMEA         Henriot   \n",
      "2          Paris   NaN      75508         France      EMEA        Da Cunha   \n",
      "3       Pasadena    CA      90003            USA       NaN           Young   \n",
      "4  San Francisco    CA        NaN  United States       NaN           Brown   \n",
      "\n",
      "  CONTACTFIRSTNAME  \n",
      "0             Kwai  \n",
      "1             Paul  \n",
      "2           Daniel  \n",
      "3            Julie  \n",
      "4            Julie  \n",
      "\n",
      "[5 rows x 24 columns]\n"
     ]
    }
   ],
   "source": [
    "import pandas as pd\n",
    "data=pd.read_csv(\"sales_data.csv\",encoding='latin1')\n",
    "print(data.head())"
   ]
  },
  {
   "cell_type": "code",
   "execution_count": 4,
   "metadata": {},
   "outputs": [
    {
     "data": {
      "text/plain": [
       "(2823, 24)"
      ]
     },
     "execution_count": 4,
     "metadata": {},
     "output_type": "execute_result"
    }
   ],
   "source": [
    "data.shape"
   ]
  },
  {
   "cell_type": "code",
   "execution_count": 5,
   "metadata": {},
   "outputs": [
    {
     "name": "stdout",
     "output_type": "stream",
     "text": [
      "<class 'pandas.core.frame.DataFrame'>\n",
      "RangeIndex: 2823 entries, 0 to 2822\n",
      "Data columns (total 24 columns):\n",
      "ORDERNUMBER         2823 non-null int64\n",
      "QUANTITYORDERED     2823 non-null int64\n",
      "PRICEEACH           2823 non-null float64\n",
      "ORDERLINENUMBER     2823 non-null int64\n",
      "SALES               2823 non-null float64\n",
      "ORDERDATE           2823 non-null object\n",
      "STATUS              2823 non-null object\n",
      "QTR_ID              2823 non-null int64\n",
      "MONTH_ID            2823 non-null int64\n",
      "YEAR_ID             2823 non-null int64\n",
      "PRODUCTLINE         2823 non-null object\n",
      "MSRP                2823 non-null int64\n",
      "PRODUCTCODE         2823 non-null object\n",
      "CUSTOMERNAME        2823 non-null object\n",
      "PHONE               2823 non-null object\n",
      "ADDRESSLINE1        2823 non-null object\n",
      "ADDRESSLINE2        302 non-null object\n",
      "CITY                2823 non-null object\n",
      "STATE               1337 non-null object\n",
      "POSTALCODE          2747 non-null object\n",
      "COUNTRY             2823 non-null object\n",
      "TERRITORY           1749 non-null object\n",
      "CONTACTLASTNAME     2823 non-null object\n",
      "CONTACTFIRSTNAME    2823 non-null object\n",
      "dtypes: float64(2), int64(7), object(15)\n",
      "memory usage: 529.4+ KB\n"
     ]
    }
   ],
   "source": [
    "data.info()"
   ]
  },
  {
   "cell_type": "code",
   "execution_count": 6,
   "metadata": {},
   "outputs": [
    {
     "data": {
      "text/html": [
       "<div>\n",
       "<style scoped>\n",
       "    .dataframe tbody tr th:only-of-type {\n",
       "        vertical-align: middle;\n",
       "    }\n",
       "\n",
       "    .dataframe tbody tr th {\n",
       "        vertical-align: top;\n",
       "    }\n",
       "\n",
       "    .dataframe thead th {\n",
       "        text-align: right;\n",
       "    }\n",
       "</style>\n",
       "<table border=\"1\" class=\"dataframe\">\n",
       "  <thead>\n",
       "    <tr style=\"text-align: right;\">\n",
       "      <th></th>\n",
       "      <th>ORDERNUMBER</th>\n",
       "      <th>QUANTITYORDERED</th>\n",
       "      <th>PRICEEACH</th>\n",
       "      <th>ORDERLINENUMBER</th>\n",
       "      <th>SALES</th>\n",
       "      <th>QTR_ID</th>\n",
       "      <th>MONTH_ID</th>\n",
       "      <th>YEAR_ID</th>\n",
       "      <th>MSRP</th>\n",
       "    </tr>\n",
       "  </thead>\n",
       "  <tbody>\n",
       "    <tr>\n",
       "      <th>count</th>\n",
       "      <td>2823.000000</td>\n",
       "      <td>2823.000000</td>\n",
       "      <td>2823.000000</td>\n",
       "      <td>2823.000000</td>\n",
       "      <td>2823.000000</td>\n",
       "      <td>2823.000000</td>\n",
       "      <td>2823.000000</td>\n",
       "      <td>2823.00000</td>\n",
       "      <td>2823.000000</td>\n",
       "    </tr>\n",
       "    <tr>\n",
       "      <th>mean</th>\n",
       "      <td>10258.725115</td>\n",
       "      <td>35.092809</td>\n",
       "      <td>83.658544</td>\n",
       "      <td>6.466171</td>\n",
       "      <td>3553.889072</td>\n",
       "      <td>2.717676</td>\n",
       "      <td>7.092455</td>\n",
       "      <td>2003.81509</td>\n",
       "      <td>100.715551</td>\n",
       "    </tr>\n",
       "    <tr>\n",
       "      <th>std</th>\n",
       "      <td>92.085478</td>\n",
       "      <td>9.741443</td>\n",
       "      <td>20.174277</td>\n",
       "      <td>4.225841</td>\n",
       "      <td>1841.865106</td>\n",
       "      <td>1.203878</td>\n",
       "      <td>3.656633</td>\n",
       "      <td>0.69967</td>\n",
       "      <td>40.187912</td>\n",
       "    </tr>\n",
       "    <tr>\n",
       "      <th>min</th>\n",
       "      <td>10100.000000</td>\n",
       "      <td>6.000000</td>\n",
       "      <td>26.880000</td>\n",
       "      <td>1.000000</td>\n",
       "      <td>482.130000</td>\n",
       "      <td>1.000000</td>\n",
       "      <td>1.000000</td>\n",
       "      <td>2003.00000</td>\n",
       "      <td>33.000000</td>\n",
       "    </tr>\n",
       "    <tr>\n",
       "      <th>25%</th>\n",
       "      <td>10180.000000</td>\n",
       "      <td>27.000000</td>\n",
       "      <td>68.860000</td>\n",
       "      <td>3.000000</td>\n",
       "      <td>2203.430000</td>\n",
       "      <td>2.000000</td>\n",
       "      <td>4.000000</td>\n",
       "      <td>2003.00000</td>\n",
       "      <td>68.000000</td>\n",
       "    </tr>\n",
       "    <tr>\n",
       "      <th>50%</th>\n",
       "      <td>10262.000000</td>\n",
       "      <td>35.000000</td>\n",
       "      <td>95.700000</td>\n",
       "      <td>6.000000</td>\n",
       "      <td>3184.800000</td>\n",
       "      <td>3.000000</td>\n",
       "      <td>8.000000</td>\n",
       "      <td>2004.00000</td>\n",
       "      <td>99.000000</td>\n",
       "    </tr>\n",
       "    <tr>\n",
       "      <th>75%</th>\n",
       "      <td>10333.500000</td>\n",
       "      <td>43.000000</td>\n",
       "      <td>100.000000</td>\n",
       "      <td>9.000000</td>\n",
       "      <td>4508.000000</td>\n",
       "      <td>4.000000</td>\n",
       "      <td>11.000000</td>\n",
       "      <td>2004.00000</td>\n",
       "      <td>124.000000</td>\n",
       "    </tr>\n",
       "    <tr>\n",
       "      <th>max</th>\n",
       "      <td>10425.000000</td>\n",
       "      <td>97.000000</td>\n",
       "      <td>100.000000</td>\n",
       "      <td>18.000000</td>\n",
       "      <td>14082.800000</td>\n",
       "      <td>4.000000</td>\n",
       "      <td>12.000000</td>\n",
       "      <td>2005.00000</td>\n",
       "      <td>214.000000</td>\n",
       "    </tr>\n",
       "  </tbody>\n",
       "</table>\n",
       "</div>"
      ],
      "text/plain": [
       "        ORDERNUMBER  QUANTITYORDERED    PRICEEACH  ORDERLINENUMBER  \\\n",
       "count   2823.000000      2823.000000  2823.000000      2823.000000   \n",
       "mean   10258.725115        35.092809    83.658544         6.466171   \n",
       "std       92.085478         9.741443    20.174277         4.225841   \n",
       "min    10100.000000         6.000000    26.880000         1.000000   \n",
       "25%    10180.000000        27.000000    68.860000         3.000000   \n",
       "50%    10262.000000        35.000000    95.700000         6.000000   \n",
       "75%    10333.500000        43.000000   100.000000         9.000000   \n",
       "max    10425.000000        97.000000   100.000000        18.000000   \n",
       "\n",
       "              SALES       QTR_ID     MONTH_ID     YEAR_ID         MSRP  \n",
       "count   2823.000000  2823.000000  2823.000000  2823.00000  2823.000000  \n",
       "mean    3553.889072     2.717676     7.092455  2003.81509   100.715551  \n",
       "std     1841.865106     1.203878     3.656633     0.69967    40.187912  \n",
       "min      482.130000     1.000000     1.000000  2003.00000    33.000000  \n",
       "25%     2203.430000     2.000000     4.000000  2003.00000    68.000000  \n",
       "50%     3184.800000     3.000000     8.000000  2004.00000    99.000000  \n",
       "75%     4508.000000     4.000000    11.000000  2004.00000   124.000000  \n",
       "max    14082.800000     4.000000    12.000000  2005.00000   214.000000  "
      ]
     },
     "execution_count": 6,
     "metadata": {},
     "output_type": "execute_result"
    }
   ],
   "source": [
    "data.describe()"
   ]
  },
  {
   "cell_type": "code",
   "execution_count": 7,
   "metadata": {},
   "outputs": [
    {
     "data": {
      "text/plain": [
       "ORDERNUMBER            0\n",
       "QUANTITYORDERED        0\n",
       "PRICEEACH              0\n",
       "ORDERLINENUMBER        0\n",
       "SALES                  0\n",
       "ORDERDATE              0\n",
       "STATUS                 0\n",
       "QTR_ID                 0\n",
       "MONTH_ID               0\n",
       "YEAR_ID                0\n",
       "PRODUCTLINE            0\n",
       "MSRP                   0\n",
       "PRODUCTCODE            0\n",
       "CUSTOMERNAME           0\n",
       "PHONE                  0\n",
       "ADDRESSLINE1           0\n",
       "ADDRESSLINE2        2521\n",
       "CITY                   0\n",
       "STATE               1486\n",
       "POSTALCODE            76\n",
       "COUNTRY                0\n",
       "TERRITORY           1074\n",
       "CONTACTLASTNAME        0\n",
       "CONTACTFIRSTNAME       0\n",
       "dtype: int64"
      ]
     },
     "execution_count": 7,
     "metadata": {},
     "output_type": "execute_result"
    }
   ],
   "source": [
    "data.isnull().sum()"
   ]
  },
  {
   "cell_type": "code",
   "execution_count": 8,
   "metadata": {},
   "outputs": [
    {
     "name": "stdout",
     "output_type": "stream",
     "text": [
      "      ORDERNUMBER  QUANTITYORDERED  PRICEEACH  ORDERLINENUMBER    SALES  \\\n",
      "0           10107               30      95.70                2  2871.00   \n",
      "1           10121               34      81.35                5  2765.90   \n",
      "2           10134               41      94.74                2  3884.34   \n",
      "3           10145               45      83.26                6  3746.70   \n",
      "4           10159               49     100.00               14  5205.27   \n",
      "5           10168               36      96.66                1  3479.76   \n",
      "6           10180               29      86.13                9  2497.77   \n",
      "7           10188               48     100.00                1  5512.32   \n",
      "8           10201               22      98.57                2  2168.54   \n",
      "9           10211               41     100.00               14  4708.44   \n",
      "10          10223               37     100.00                1  3965.66   \n",
      "11          10237               23     100.00                7  2333.12   \n",
      "12          10251               28     100.00                2  3188.64   \n",
      "13          10263               34     100.00                2  3676.76   \n",
      "14          10275               45      92.83                1  4177.35   \n",
      "15          10285               36     100.00                6  4099.68   \n",
      "16          10299               23     100.00                9  2597.39   \n",
      "17          10309               41     100.00                5  4394.38   \n",
      "18          10318               46      94.74                1  4358.04   \n",
      "19          10329               42     100.00                1  4396.14   \n",
      "20          10341               41     100.00                9  7737.93   \n",
      "21          10361               20      72.55               13  1451.00   \n",
      "22          10375               21      34.91               12   733.11   \n",
      "23          10388               42      76.36                4  3207.12   \n",
      "24          10403               24     100.00                7  2434.56   \n",
      "25          10417               66     100.00                2  7516.08   \n",
      "26          10103               26     100.00               11  5404.62   \n",
      "27          10112               29     100.00                1  7209.11   \n",
      "28          10126               38     100.00               11  7329.06   \n",
      "29          10140               37     100.00               11  7374.10   \n",
      "...           ...              ...        ...              ...      ...   \n",
      "2793        10386               50      87.15               16  4357.50   \n",
      "2794        10398               34      40.22                1  1367.48   \n",
      "2795        10400               20      56.12                4  1122.40   \n",
      "2796        10415               42      57.61                3  2419.62   \n",
      "2797        10105               25      56.78                8  1419.50   \n",
      "2798        10117               50      43.68                2  2184.00   \n",
      "2799        10129               32      64.97                8  2079.04   \n",
      "2800        10142               39      44.23                5  1724.97   \n",
      "2801        10153               50      60.06                4  3003.00   \n",
      "2802        10167               38      48.59               15  1846.42   \n",
      "2803        10177               40      50.23                6  2009.20   \n",
      "2804        10185               28      64.43                6  1804.04   \n",
      "2805        10197               42      50.23               12  2109.66   \n",
      "2806        10208               42      63.88                6  2682.96   \n",
      "2807        10222               36      63.34               18  2280.24   \n",
      "2808        10232               24      49.69                3  1192.56   \n",
      "2809        10248               23      65.52                9  1506.96   \n",
      "2810        10261               29      50.78                7  1472.62   \n",
      "2811        10273               37      45.86               10  1696.82   \n",
      "2812        10283               33      51.32               12  1693.56   \n",
      "2813        10293               32      60.06                1  1921.92   \n",
      "2814        10306               35      59.51                6  2082.85   \n",
      "2815        10315               40      55.69                5  2227.60   \n",
      "2816        10327               37      86.74                4  3209.38   \n",
      "2817        10337               42      97.16                5  4080.72   \n",
      "2818        10350               20     100.00               15  2244.40   \n",
      "2819        10373               29     100.00                1  3978.51   \n",
      "2820        10386               43     100.00                4  5417.57   \n",
      "2821        10397               34      62.24                1  2116.16   \n",
      "2822        10414               47      65.52                9  3079.44   \n",
      "\n",
      "             ORDERDATE     STATUS  QTR_ID  MONTH_ID  YEAR_ID   PRODUCTLINE  \\\n",
      "0       2/24/2003 0:00    Shipped       1         2     2003   Motorcycles   \n",
      "1     05/07/2003 00:00    Shipped       2         5     2003   Motorcycles   \n",
      "2     07/01/2003 00:00    Shipped       3         7     2003   Motorcycles   \n",
      "3       8/25/2003 0:00    Shipped       3         8     2003   Motorcycles   \n",
      "4     10/10/2003 00:00    Shipped       4        10     2003   Motorcycles   \n",
      "5      10/28/2003 0:00    Shipped       4        10     2003   Motorcycles   \n",
      "6     11/11/2003 00:00    Shipped       4        11     2003   Motorcycles   \n",
      "7      11/18/2003 0:00    Shipped       4        11     2003   Motorcycles   \n",
      "8     12/01/2003 00:00    Shipped       4        12     2003   Motorcycles   \n",
      "9       1/15/2004 0:00    Shipped       1         1     2004   Motorcycles   \n",
      "10      2/20/2004 0:00    Shipped       1         2     2004   Motorcycles   \n",
      "11    04/05/2004 00:00    Shipped       2         4     2004   Motorcycles   \n",
      "12      5/18/2004 0:00    Shipped       2         5     2004   Motorcycles   \n",
      "13      6/28/2004 0:00    Shipped       2         6     2004   Motorcycles   \n",
      "14      7/23/2004 0:00    Shipped       3         7     2004   Motorcycles   \n",
      "15      8/27/2004 0:00    Shipped       3         8     2004   Motorcycles   \n",
      "16      9/30/2004 0:00    Shipped       3         9     2004   Motorcycles   \n",
      "17     10/15/2004 0:00    Shipped       4        10     2004   Motorcycles   \n",
      "18    11/02/2004 00:00    Shipped       4        11     2004   Motorcycles   \n",
      "19     11/15/2004 0:00    Shipped       4        11     2004   Motorcycles   \n",
      "20     11/24/2004 0:00    Shipped       4        11     2004   Motorcycles   \n",
      "21     12/17/2004 0:00    Shipped       4        12     2004   Motorcycles   \n",
      "22    02/03/2005 00:00    Shipped       1         2     2005   Motorcycles   \n",
      "23    03/03/2005 00:00    Shipped       1         3     2005   Motorcycles   \n",
      "24    04/08/2005 00:00    Shipped       2         4     2005   Motorcycles   \n",
      "25      5/13/2005 0:00   Disputed       2         5     2005   Motorcycles   \n",
      "26      1/29/2003 0:00    Shipped       1         1     2003  Classic Cars   \n",
      "27      3/24/2003 0:00    Shipped       1         3     2003  Classic Cars   \n",
      "28      5/28/2003 0:00    Shipped       2         5     2003  Classic Cars   \n",
      "29      7/24/2003 0:00    Shipped       3         7     2003  Classic Cars   \n",
      "...                ...        ...     ...       ...      ...           ...   \n",
      "2793  03/01/2005 00:00   Resolved       1         3     2005        Planes   \n",
      "2794    3/30/2005 0:00    Shipped       1         3     2005        Planes   \n",
      "2795  04/01/2005 00:00    Shipped       2         4     2005        Planes   \n",
      "2796  05/09/2005 00:00   Disputed       2         5     2005        Planes   \n",
      "2797  02/11/2003 00:00    Shipped       1         2     2003         Ships   \n",
      "2798    4/16/2003 0:00    Shipped       2         4     2003         Ships   \n",
      "2799  06/12/2003 00:00    Shipped       2         6     2003         Ships   \n",
      "2800  08/08/2003 00:00    Shipped       3         8     2003         Ships   \n",
      "2801    9/28/2003 0:00    Shipped       3         9     2003         Ships   \n",
      "2802   10/23/2003 0:00  Cancelled       4        10     2003         Ships   \n",
      "2803  11/07/2003 00:00    Shipped       4        11     2003         Ships   \n",
      "2804   11/14/2003 0:00    Shipped       4        11     2003         Ships   \n",
      "2805   11/26/2003 0:00    Shipped       4        11     2003         Ships   \n",
      "2806  01/02/2004 00:00    Shipped       1         1     2004         Ships   \n",
      "2807    2/19/2004 0:00    Shipped       1         2     2004         Ships   \n",
      "2808    3/20/2004 0:00    Shipped       1         3     2004         Ships   \n",
      "2809  05/07/2004 00:00  Cancelled       2         5     2004         Ships   \n",
      "2810    6/17/2004 0:00    Shipped       2         6     2004         Ships   \n",
      "2811    7/21/2004 0:00    Shipped       3         7     2004         Ships   \n",
      "2812    8/20/2004 0:00    Shipped       3         8     2004         Ships   \n",
      "2813  09/09/2004 00:00    Shipped       3         9     2004         Ships   \n",
      "2814   10/14/2004 0:00    Shipped       4        10     2004         Ships   \n",
      "2815   10/29/2004 0:00    Shipped       4        10     2004         Ships   \n",
      "2816  11/10/2004 00:00   Resolved       4        11     2004         Ships   \n",
      "2817   11/21/2004 0:00    Shipped       4        11     2004         Ships   \n",
      "2818  12/02/2004 00:00    Shipped       4        12     2004         Ships   \n",
      "2819    1/31/2005 0:00    Shipped       1         1     2005         Ships   \n",
      "2820  03/01/2005 00:00   Resolved       1         3     2005         Ships   \n",
      "2821    3/28/2005 0:00    Shipped       1         3     2005         Ships   \n",
      "2822  05/06/2005 00:00    On Hold       2         5     2005         Ships   \n",
      "\n",
      "      MSRP PRODUCTCODE                       CUSTOMERNAME             PHONE  \\\n",
      "0       95    S10_1678                  Land of Toys Inc.        2125557818   \n",
      "1       95    S10_1678                 Reims Collectables        26.47.1555   \n",
      "2       95    S10_1678                    Lyon Souveniers  +33 1 46 62 7555   \n",
      "3       95    S10_1678                  Toys4GrownUps.com        6265557265   \n",
      "4       95    S10_1678           Corporate Gift Ideas Co.        6505551386   \n",
      "5       95    S10_1678               Technics Stores Inc.        6505556809   \n",
      "6       95    S10_1678           Daedalus Designs Imports        20.16.1555   \n",
      "7       95    S10_1678                       Herkku Gifts     +47 2267 3215   \n",
      "8       95    S10_1678                    Mini Wheels Co.        6505555787   \n",
      "9       95    S10_1678                  Auto Canal+ Petit    (1) 47.55.6555   \n",
      "10      95    S10_1678         Australian Collectors, Co.      03 9520 4555   \n",
      "11      95    S10_1678                    Vitachrome Inc.        2125551500   \n",
      "12      95    S10_1678            Tekni Collectables Inc.        2015559350   \n",
      "13      95    S10_1678                    Gift Depot Inc.        2035552570   \n",
      "14      95    S10_1678                  La Rochelle Gifts        40.67.8555   \n",
      "15      95    S10_1678               Marta's Replicas Co.        6175558555   \n",
      "16      95    S10_1678               Toys of Finland, Co.       90-224 8555   \n",
      "17      95    S10_1678                 Baane Mini Imports        07-98 9555   \n",
      "18      95    S10_1678              Diecast Classics Inc.        2155551555   \n",
      "19      95    S10_1678                  Land of Toys Inc.        2125557818   \n",
      "20      95    S10_1678              Salzburg Collectables         6562-9555   \n",
      "21      95    S10_1678          Souveniers And Things Co.   +61 2 9495 8555   \n",
      "22      95    S10_1678                  La Rochelle Gifts        40.67.8555   \n",
      "23      95    S10_1678                   FunGiftIdeas.com        5085552555   \n",
      "24      95    S10_1678              UK Collectables, Ltd.    (171) 555-2282   \n",
      "25      95    S10_1678             Euro+ Shopping Channel    (91) 555 94 44   \n",
      "26     214    S10_1949                 Baane Mini Imports        07-98 9555   \n",
      "27     214    S10_1949           Volvo Model Replicas, Co      0921-12 3555   \n",
      "28     214    S10_1949         Corrida Auto Replicas, Ltd    (91) 555 22 82   \n",
      "29     214    S10_1949               Technics Stores Inc.        6505556809   \n",
      "...    ...         ...                                ...               ...   \n",
      "2793    49    S72_1253             Euro+ Shopping Channel    (91) 555 94 44   \n",
      "2794    49    S72_1253                 Reims Collectables        26.47.1555   \n",
      "2795    49    S72_1253          The Sharp Gifts Warehouse        4085553659   \n",
      "2796    49    S72_1253       Australian Collectables, Ltd    61-9-3844-6555   \n",
      "2797    54    S72_3212           Danish Wholesale Imports        31 12 3555   \n",
      "2798    54    S72_3212            Dragon Souveniers, Ltd.      +65 221 7555   \n",
      "2799    54    S72_3212           Stylish Desk Decors, Co.    (171) 555-0297   \n",
      "2800    54    S72_3212       Mini Gifts Distributors Ltd.        4155551450   \n",
      "2801    54    S72_3212             Euro+ Shopping Channel    (91) 555 94 44   \n",
      "2802    54    S72_3212            Scandinavian Gift Ideas      0695-34 6555   \n",
      "2803    54    S72_3212                        CAF Imports   +34 913 728 555   \n",
      "2804    54    S72_3212                Mini Creations Ltd.        5085559555   \n",
      "2805    54    S72_3212                 Enaco Distributors     (93) 203 4555   \n",
      "2806    54    S72_3212             Saveley & Henriot, Co.        78.32.5555   \n",
      "2807    54    S72_3212       Collectable Mini Designs Co.        7605558146   \n",
      "2808    54    S72_3212                  giftsbymail.co.uk    (198) 555-8888   \n",
      "2809    54    S72_3212                  Land of Toys Inc.        2125557818   \n",
      "2810    54    S72_3212       Qubec Home Shopping Network    (514) 555-8054   \n",
      "2811    54    S72_3212                         Petit Auto      (02) 5554 67   \n",
      "2812    54    S72_3212  Royal Canadian Collectables, Ltd.    (604) 555-4555   \n",
      "2813    54    S72_3212                 Amica Models & Co.       011-4988555   \n",
      "2814    54    S72_3212                     AV Stores, Co.    (171) 555-1555   \n",
      "2815    54    S72_3212                  La Rochelle Gifts        40.67.8555   \n",
      "2816    54    S72_3212           Danish Wholesale Imports        31 12 3555   \n",
      "2817    54    S72_3212               Classic Legends Inc.        2125558493   \n",
      "2818    54    S72_3212             Euro+ Shopping Channel    (91) 555 94 44   \n",
      "2819    54    S72_3212            Oulu Toy Supplies, Inc.        981-443655   \n",
      "2820    54    S72_3212             Euro+ Shopping Channel    (91) 555 94 44   \n",
      "2821    54    S72_3212                       Alpha Cognac        61.77.6555   \n",
      "2822    54    S72_3212                  Gifts4AllAges.com        6175559555   \n",
      "\n",
      "                                 ADDRESSLINE1           CITY        COUNTRY  \\\n",
      "0                     897 Long Airport Avenue            NYC  United States   \n",
      "1                          59 rue de l'Abbaye          Reims         France   \n",
      "2               27 rue du Colonel Pierre Avia          Paris         France   \n",
      "3                          78934 Hillside Dr.       Pasadena            USA   \n",
      "4                             7734 Strong St.  San Francisco  United States   \n",
      "5                           9408 Furth Circle     Burlingame            USA   \n",
      "6                    184, chausse de Tournai          Lille         France   \n",
      "7                 Drammen 121, PR 744 Sentrum         Bergen         Norway   \n",
      "8                   5557 North Pendale Street  San Francisco  United States   \n",
      "9                           25, rue Lauriston          Paris         France   \n",
      "10                          636 St Kilda Road      Melbourne      Australia   \n",
      "11                          2678 Kingston Rd.            NYC            USA   \n",
      "12                              7476 Moss Rd.         Newark            USA   \n",
      "13                        25593 South Bay Ln.    Bridgewater  United States   \n",
      "14               67, rue des Cinquante Otages         Nantes         France   \n",
      "15                        39323 Spinnaker Dr.      Cambridge            USA   \n",
      "16                              Keskuskatu 45       Helsinki        Finland   \n",
      "17                     Erling Skakkes gate 78        Stavern         Norway   \n",
      "18                           7586 Pompton St.      Allentown            USA   \n",
      "19                    897 Long Airport Avenue            NYC  United States   \n",
      "20                                Geislweg 14       Salzburg        Austria   \n",
      "21    Monitor Money Building, 815 Pacific Hwy      Chatswood      Australia   \n",
      "22               67, rue des Cinquante Otages         Nantes         France   \n",
      "23                          1785 First Street    New Bedford            USA   \n",
      "24               Berkeley Gardens 12  Brewery      Liverpool             UK   \n",
      "25                         C/ Moralzarzal, 86         Madrid          Spain   \n",
      "26                     Erling Skakkes gate 78        Stavern         Norway   \n",
      "27                            Berguvsvgen  8          Lule         Sweden   \n",
      "28                             C/ Araquil, 67         Madrid          Spain   \n",
      "29                          9408 Furth Circle     Burlingame            USA   \n",
      "...                                       ...            ...            ...   \n",
      "2793                       C/ Moralzarzal, 86         Madrid          Spain   \n",
      "2794                       59 rue de l'Abbaye          Reims         France   \n",
      "2795                           3086 Ingle Ln.       San Jose            USA   \n",
      "2796                           7 Allen Street   Glen Waverly      Australia   \n",
      "2797                             Vinbltet 34      Kobenhavn        Denmark   \n",
      "2798     Bronz Sok., Bronz Apt. 3/6 Tesvikiye      Singapore      Singapore   \n",
      "2799                           35 King George         London             UK   \n",
      "2800                          5677 Strong St.     San Rafael            USA   \n",
      "2801                       C/ Moralzarzal, 86         Madrid          Spain   \n",
      "2802                             ?kergatan 24         Brcke         Sweden   \n",
      "2803   Merchants House, 27-30 Merchant's Quay         Madrid          Spain   \n",
      "2804                        4575 Hillside Dr.    New Bedford            USA   \n",
      "2805                   Rambla de Catalu¤a, 23      Barcelona          Spain   \n",
      "2806                       2, rue du Commerce           Lyon         France   \n",
      "2807                         361 Furth Circle      San Diego            USA   \n",
      "2808                Garden House Crowther Way          Cowes             UK   \n",
      "2809                  897 Long Airport Avenue            NYC            USA   \n",
      "2810                       43 rue St. Laurent       Montral         Canada   \n",
      "2811                      Rue Joseph-Bens 532      Bruxelles        Belgium   \n",
      "2812                       23 Tsawassen Blvd.      Tsawassen         Canada   \n",
      "2813                      Via Monte Bianco 34         Torino          Italy   \n",
      "2814                        Fauntleroy Circus     Manchester             UK   \n",
      "2815             67, rue des Cinquante Otages         Nantes         France   \n",
      "2816                             Vinbltet 34      Kobenhavn        Denmark   \n",
      "2817                         5905 Pompton St.            NYC            USA   \n",
      "2818                       C/ Moralzarzal, 86         Madrid          Spain   \n",
      "2819                              Torikatu 38           Oulu        Finland   \n",
      "2820                       C/ Moralzarzal, 86         Madrid          Spain   \n",
      "2821                    1 rue Alsace-Lorraine       Toulouse         France   \n",
      "2822                       8616 Spinnaker Dr.         Boston            USA   \n",
      "\n",
      "     CONTACTLASTNAME CONTACTFIRSTNAME  \n",
      "0                 Yu             Kwai  \n",
      "1            Henriot             Paul  \n",
      "2           Da Cunha           Daniel  \n",
      "3              Young            Julie  \n",
      "4              Brown            Julie  \n",
      "5             Hirano             Juri  \n",
      "6              Ranc          Martine  \n",
      "7             Oeztan           Veysel  \n",
      "8             Murphy            Julie  \n",
      "9            Perrier        Dominique  \n",
      "10          Ferguson            Peter  \n",
      "11             Frick          Michael  \n",
      "12             Brown          William  \n",
      "13              King            Julie  \n",
      "14           Labrune           Janine  \n",
      "15         Hernandez            Marta  \n",
      "16         Karttunen            Matti  \n",
      "17        Bergulfsen            Jonas  \n",
      "18                Yu            Kyung  \n",
      "19                Yu             Kwai  \n",
      "20             Pipps            Georg  \n",
      "21            Huxley           Adrian  \n",
      "22           Labrune           Janine  \n",
      "23           Benitez          Violeta  \n",
      "24             Devon        Elizabeth  \n",
      "25            Freyre            Diego  \n",
      "26        Bergulfsen            Jonas  \n",
      "27          Berglund        Christina  \n",
      "28            Sommer           Mart¡n  \n",
      "29            Hirano             Juri  \n",
      "...              ...              ...  \n",
      "2793          Freyre            Diego  \n",
      "2794         Henriot             Paul  \n",
      "2795           Frick              Sue  \n",
      "2796         Connery             Sean  \n",
      "2797        Petersen            Jytte  \n",
      "2798       Natividad             Eric  \n",
      "2799           Brown              Ann  \n",
      "2800          Nelson          Valarie  \n",
      "2801          Freyre            Diego  \n",
      "2802         Larsson            Maria  \n",
      "2803       Fernandez            Jesus  \n",
      "2804             Tam           Wing C  \n",
      "2805        Saavedra          Eduardo  \n",
      "2806         Saveley             Mary  \n",
      "2807        Thompson          Valarie  \n",
      "2808         Bennett            Helen  \n",
      "2809              Yu             Kwai  \n",
      "2810       Fresnire             Jean  \n",
      "2811           Dewey        Catherine  \n",
      "2812         Lincoln        Elizabeth  \n",
      "2813         Accorti            Paolo  \n",
      "2814        Ashworth         Victoria  \n",
      "2815         Labrune           Janine  \n",
      "2816        Petersen            Jytte  \n",
      "2817       Hernandez            Maria  \n",
      "2818          Freyre            Diego  \n",
      "2819       Koskitalo           Pirkko  \n",
      "2820          Freyre            Diego  \n",
      "2821          Roulet          Annette  \n",
      "2822         Yoshido             Juri  \n",
      "\n",
      "[2823 rows x 20 columns]\n"
     ]
    }
   ],
   "source": [
    "data = data.dropna(axis=1)\n",
    "print(data)"
   ]
  },
  {
   "cell_type": "code",
   "execution_count": 9,
   "metadata": {},
   "outputs": [
    {
     "data": {
      "image/png": "[encoded data removed]",
      "text/plain": [
       "<Figure size 864x288 with 3 Axes>"
      ]
     },
     "metadata": {
      "needs_background": "light"
     },
     "output_type": "display_data"
    }
   ],
   "source": [
    "sns.pairplot(data,x_vars=['QUANTITYORDERED','PRICEEACH','MSRP'], y_vars='SALES',height=4,\n",
    "            aspect=1,kind='scatter')\n",
    "plt.show()"
   ]
  },
  {
   "cell_type": "code",
   "execution_count": 10,
   "metadata": {},
   "outputs": [],
   "source": [
    "import pandas as pd\n",
    "from sklearn import linear_model\n",
    "# import statsmodels.api as sm"
   ]
  },
  {
   "cell_type": "code",
   "execution_count": 11,
   "metadata": {},
   "outputs": [],
   "source": [
    "X = data[['QUANTITYORDERED','PRICEEACH','MSRP']]\n",
    "Y = data['SALES']"
   ]
  },
  {
   "cell_type": "code",
   "execution_count": 12,
   "metadata": {},
   "outputs": [
    {
     "data": {
      "text/plain": [
       "LinearRegression(copy_X=True, fit_intercept=True, n_jobs=None,\n",
       "         normalize=False)"
      ]
     },
     "execution_count": 12,
     "metadata": {},
     "output_type": "execute_result"
    }
   ],
   "source": [
    "regr = linear_model.LinearRegression()\n",
    "regr.fit(X, Y)"
   ]
  },
  {
   "cell_type": "code",
   "execution_count": 13,
   "metadata": {},
   "outputs": [
    {
     "name": "stdout",
     "output_type": "stream",
     "text": [
      "Predicted SalesPrice: \n",
      " [6838.00219888]\n"
     ]
    }
   ],
   "source": [
    "# prediction with sklearn\n",
    "QUANTITYORDERED = 56\n",
    "PRICEEACH = 93.2\n",
    "MSRP=150\n",
    "print ('Predicted SalesPrice: \\n', regr.predict([[QUANTITYORDERED,PRICEEACH,MSRP]]))\n",
    "\n"
   ]
  },
  {
   "cell_type": "code",
   "execution_count": 57,
   "metadata": {},
   "outputs": [],
   "source": [
    "# tkinter GUI\n",
    "import tkinter as tk \n",
    "root = tkinter.Tk()\n",
    "canvas1 = tk.Canvas(root, width = 500, height = 300)\n",
    "canvas1.pack()"
   ]
  },
  {
   "cell_type": "code",
   "execution_count": 58,
   "metadata": {},
   "outputs": [
    {
     "data": {
      "text/plain": [
       "1"
      ]
     },
     "execution_count": 58,
     "metadata": {},
     "output_type": "execute_result"
    }
   ],
   "source": [
    "# with sklearn\n",
    "Intercept_result = ('Intercept: ', regr.intercept_)\n",
    "label_Intercept = tk.Label(root, text=Intercept_result, justify = 'center')\n",
    "canvas1.create_window(260, 220, window=label_Intercept)"
   ]
  },
  {
   "cell_type": "code",
   "execution_count": 59,
   "metadata": {},
   "outputs": [
    {
     "data": {
      "text/plain": [
       "2"
      ]
     },
     "execution_count": 59,
     "metadata": {},
     "output_type": "execute_result"
    }
   ],
   "source": [
    "# with sklearn\n",
    "Coefficients_result  = ('Coefficients: ', regr.coef_)\n",
    "label_Coefficients = tk.Label(root, text=Coefficients_result, justify = 'center')\n",
    "canvas1.create_window(260, 240, window=label_Coefficients)"
   ]
  },
  {
   "cell_type": "code",
   "execution_count": 60,
   "metadata": {},
   "outputs": [
    {
     "data": {
      "text/plain": [
       "3"
      ]
     },
     "execution_count": 60,
     "metadata": {},
     "output_type": "execute_result"
    }
   ],
   "source": [
    "# New_Interest_Rate label and input box\n",
    "label1 = tk.Label(root, text='Type QUANTITY ORDERED: ')\n",
    "canvas1.create_window(100, 100, window=label1)"
   ]
  },
  {
   "cell_type": "code",
   "execution_count": 61,
   "metadata": {},
   "outputs": [
    {
     "data": {
      "text/plain": [
       "4"
      ]
     },
     "execution_count": 61,
     "metadata": {},
     "output_type": "execute_result"
    }
   ],
   "source": [
    "entry1 = tk.Entry (root) # create 1st entry box\n",
    "canvas1.create_window(270, 100, window=entry1)"
   ]
  },
  {
   "cell_type": "code",
   "execution_count": 62,
   "metadata": {},
   "outputs": [
    {
     "data": {
      "text/plain": [
       "6"
      ]
     },
     "execution_count": 62,
     "metadata": {},
     "output_type": "execute_result"
    }
   ],
   "source": [
    "# PRICE_EACH label and input box\n",
    "label2 = tk.Label(root, text=' Type PRICE EACH: ')\n",
    "canvas1.create_window(120, 120, window=label2)\n",
    "\n",
    "entry2 = tk.Entry (root) # create 2nd entry box\n",
    "canvas1.create_window(270, 120, window=entry2)"
   ]
  },
  {
   "cell_type": "code",
   "execution_count": 63,
   "metadata": {},
   "outputs": [
    {
     "data": {
      "text/plain": [
       "8"
      ]
     },
     "execution_count": 63,
     "metadata": {},
     "output_type": "execute_result"
    }
   ],
   "source": [
    "# PRICE_EACH label and input box\n",
    "label3 = tk.Label(root, text=' Type MSRP: ')\n",
    "canvas1.create_window(140, 140, window=label3)\n",
    "\n",
    "entry3 = tk.Entry (root) # create 2nd entry box\n",
    "canvas1.create_window(270, 140, window=entry3)"
   ]
  },
  {
   "cell_type": "code",
   "execution_count": 64,
   "metadata": {},
   "outputs": [
    {
     "data": {
      "text/plain": [
       "9"
      ]
     },
     "execution_count": 64,
     "metadata": {},
     "output_type": "execute_result"
    }
   ],
   "source": [
    "def values(): \n",
    "    global New_QUANTITYORDERED #our 1st input variable\n",
    "    New_QUANTITYORDERED = float(entry1.get()) \n",
    "    \n",
    "    global New_PRICEEACH #our 2nd input variable\n",
    "    New_PRICEEACH = float(entry2.get()) \n",
    "    \n",
    "    global New_MSRP #our 2nd input variable\n",
    "    New_MSRP = float(entry3.get()) \n",
    "    \n",
    "    Prediction_result  = ('Predicted Sales Price: ', regr.predict([[New_QUANTITYORDERED ,New_PRICEEACH,New_MSRP]]))\n",
    "    label_Prediction = tk.Label(root, text= Prediction_result, bg='orange')\n",
    "    canvas1.create_window(260, 290, window=label_Prediction)\n",
    "    \n",
    "button1 = tk.Button (root, text='Predict Stock Index Price',command=values, bg='orange') # button to call the 'values' command above \n",
    "canvas1.create_window(270, 150, window=button1)\n",
    " \n",
    "    \n"
   ]
  },
  {
   "cell_type": "code",
   "execution_count": 65,
   "metadata": {},
   "outputs": [],
   "source": [
    "root.mainloop()"
   ]
  },
  {
   "cell_type": "code",
   "execution_count": null,
   "metadata": {},
   "outputs": [],
   "source": []
  }
 ],
 "metadata": {
  "kernelspec": {
   "display_name": "Python 3",
   "language": "python",
   "name": "python3"
  },
  "language_info": {
   "codemirror_mode": {
    "name": "ipython",
    "version": 3
   },
   "file_extension": ".py",
   "mimetype": "text/x-python",
   "name": "python",
   "nbconvert_exporter": "python",
   "pygments_lexer": "ipython3",
   "version": "3.7.3"
  }
 },
 "nbformat": 4,
 "nbformat_minor": 2
}
